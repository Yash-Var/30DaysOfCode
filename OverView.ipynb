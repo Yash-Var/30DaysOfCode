{
 "cells": [
  {
   "cell_type": "code",
   "execution_count": 3,
   "id": "94434ea4",
   "metadata": {},
   "outputs": [
    {
     "name": "stdout",
     "output_type": "stream",
     "text": [
      "yash varshney\n"
     ]
    }
   ],
   "source": [
    "print(\"yash varshney\")"
   ]
  },
  {
   "cell_type": "code",
   "execution_count": null,
   "id": "6ffe8488",
   "metadata": {},
   "outputs": [],
   "source": []
  },
  {
   "cell_type": "code",
   "execution_count": 4,
   "id": "51b63e30",
   "metadata": {},
   "outputs": [
    {
     "name": "stdout",
     "output_type": "stream",
     "text": [
      "yash is good coder\n"
     ]
    }
   ],
   "source": [
    "print(\"yash is good coder\")"
   ]
  },
  {
   "cell_type": "code",
   "execution_count": 5,
   "id": "f7f74478",
   "metadata": {},
   "outputs": [
    {
     "name": "stdout",
     "output_type": "stream",
     "text": [
      "yash\n"
     ]
    }
   ],
   "source": [
    "print(\"yash\")"
   ]
  },
  {
   "cell_type": "markdown",
   "id": "13b96426",
   "metadata": {},
   "source": [
    "# Learn Basics"
   ]
  },
  {
   "cell_type": "code",
   "execution_count": 1,
   "id": "957f1e25",
   "metadata": {},
   "outputs": [
    {
     "name": "stdout",
     "output_type": "stream",
     "text": [
      "8\n"
     ]
    }
   ],
   "source": [
    "i=8\n",
    "print(i)"
   ]
  },
  {
   "cell_type": "code",
   "execution_count": 2,
   "id": "0a736684",
   "metadata": {},
   "outputs": [
    {
     "name": "stdout",
     "output_type": "stream",
     "text": [
      "<class 'int'>\n"
     ]
    }
   ],
   "source": [
    "print(type(i))"
   ]
  },
  {
   "cell_type": "code",
   "execution_count": null,
   "id": "07fb195a",
   "metadata": {},
   "outputs": [],
   "source": []
  }
 ],
 "metadata": {
  "kernelspec": {
   "display_name": "Python 3 (ipykernel)",
   "language": "python",
   "name": "python3"
  },
  "language_info": {
   "codemirror_mode": {
    "name": "ipython",
    "version": 3
   },
   "file_extension": ".py",
   "mimetype": "text/x-python",
   "name": "python",
   "nbconvert_exporter": "python",
   "pygments_lexer": "ipython3",
   "version": "3.9.12"
  }
 },
 "nbformat": 4,
 "nbformat_minor": 5
}
