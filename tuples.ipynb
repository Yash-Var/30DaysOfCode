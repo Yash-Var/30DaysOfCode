{
 "cells": [
  {
   "cell_type": "markdown",
   "id": "1cc69362",
   "metadata": {},
   "source": [
    "# tuples\n",
    "- similar to list\n",
    "- immutable\n",
    "- indexable"
   ]
  },
  {
   "cell_type": "code",
   "execution_count": 1,
   "id": "cf4890f2",
   "metadata": {},
   "outputs": [],
   "source": [
    "t=()\n",
    "t=tuple()"
   ]
  },
  {
   "cell_type": "code",
   "execution_count": 3,
   "id": "1bd175bf",
   "metadata": {},
   "outputs": [
    {
     "name": "stdout",
     "output_type": "stream",
     "text": [
      "<class 'tuple'>\n"
     ]
    }
   ],
   "source": [
    "print(type(t))"
   ]
  },
  {
   "cell_type": "code",
   "execution_count": 4,
   "id": "9ecef092",
   "metadata": {},
   "outputs": [
    {
     "name": "stdout",
     "output_type": "stream",
     "text": [
      "('yash', 5, 8)\n"
     ]
    }
   ],
   "source": [
    "t=(\"yash\",5,8)\n",
    "print(t)"
   ]
  },
  {
   "cell_type": "markdown",
   "id": "d0cdc4a3",
   "metadata": {},
   "source": [
    "# concatinating tuples"
   ]
  },
  {
   "cell_type": "code",
   "execution_count": 5,
   "id": "1b230aac",
   "metadata": {},
   "outputs": [
    {
     "name": "stdout",
     "output_type": "stream",
     "text": [
      "(1, 2, 3, 4, 5, 6)\n"
     ]
    }
   ],
   "source": [
    "t=(1,2,3)+(4,5,6)\n",
    "print(t)"
   ]
  },
  {
   "cell_type": "code",
   "execution_count": 6,
   "id": "c16b5caa",
   "metadata": {},
   "outputs": [
    {
     "data": {
      "text/plain": [
       "(0, 0, 0, 0, 0, 0, 0, 0, 0, 0)"
      ]
     },
     "execution_count": 6,
     "metadata": {},
     "output_type": "execute_result"
    }
   ],
   "source": [
    "(0,)*10"
   ]
  },
  {
   "cell_type": "markdown",
   "id": "8f9427e9",
   "metadata": {},
   "source": [
    "# delection"
   ]
  },
  {
   "cell_type": "code",
   "execution_count": 7,
   "id": "e1e867e5",
   "metadata": {},
   "outputs": [],
   "source": [
    "del t"
   ]
  },
  {
   "cell_type": "markdown",
   "id": "611748fb",
   "metadata": {},
   "source": [
    "# tuple unpacking"
   ]
  },
  {
   "cell_type": "code",
   "execution_count": 8,
   "id": "e02f8cd1",
   "metadata": {},
   "outputs": [
    {
     "name": "stdout",
     "output_type": "stream",
     "text": [
      "4 2 1\n"
     ]
    }
   ],
   "source": [
    "t=(4,2,1)\n",
    "a=t[0]\n",
    "b=t[1]\n",
    "c=t[2]\n",
    "print(a,b,c)"
   ]
  },
  {
   "cell_type": "code",
   "execution_count": 9,
   "id": "04131dbe",
   "metadata": {},
   "outputs": [
    {
     "name": "stdout",
     "output_type": "stream",
     "text": [
      "4 2 1\n"
     ]
    }
   ],
   "source": [
    "r,m,n=t\n",
    "print(r,m,n)"
   ]
  },
  {
   "cell_type": "code",
   "execution_count": 10,
   "id": "25aaf8bc",
   "metadata": {},
   "outputs": [
    {
     "name": "stdout",
     "output_type": "stream",
     "text": [
      "4 2 1\n"
     ]
    }
   ],
   "source": [
    "print(*t)"
   ]
  },
  {
   "cell_type": "code",
   "execution_count": null,
   "id": "5a4e871f",
   "metadata": {},
   "outputs": [],
   "source": []
  }
 ],
 "metadata": {
  "kernelspec": {
   "display_name": "Python 3 (ipykernel)",
   "language": "python",
   "name": "python3"
  },
  "language_info": {
   "codemirror_mode": {
    "name": "ipython",
    "version": 3
   },
   "file_extension": ".py",
   "mimetype": "text/x-python",
   "name": "python",
   "nbconvert_exporter": "python",
   "pygments_lexer": "ipython3",
   "version": "3.9.12"
  }
 },
 "nbformat": 4,
 "nbformat_minor": 5
}
