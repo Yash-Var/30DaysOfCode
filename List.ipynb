{
 "cells": [
  {
   "cell_type": "code",
   "execution_count": 1,
   "id": "78204e9a",
   "metadata": {},
   "outputs": [],
   "source": [
    "lst=list()\n",
    "lst=[]"
   ]
  },
  {
   "cell_type": "code",
   "execution_count": 2,
   "id": "485bb3a6",
   "metadata": {},
   "outputs": [],
   "source": [
    "my_list=[6,7,8,9,2,3]"
   ]
  },
  {
   "cell_type": "code",
   "execution_count": 3,
   "id": "7465779e",
   "metadata": {},
   "outputs": [
    {
     "name": "stdout",
     "output_type": "stream",
     "text": [
      "[6, 7, 8, 9, 2, 3]\n"
     ]
    }
   ],
   "source": [
    "print(my_list)"
   ]
  },
  {
   "cell_type": "markdown",
   "id": "0fb4ecb3",
   "metadata": {},
   "source": [
    "# Some important methods list:\n",
    "- append\n",
    "- insert\n",
    "- pop\n",
    "- remove\n",
    "- reverse\n",
    "- sort\n",
    "- extend\n",
    " "
   ]
  },
  {
   "cell_type": "code",
   "execution_count": 4,
   "id": "67c0136d",
   "metadata": {},
   "outputs": [],
   "source": [
    "my_list.append(100)"
   ]
  },
  {
   "cell_type": "code",
   "execution_count": 5,
   "id": "cfd551dd",
   "metadata": {},
   "outputs": [
    {
     "name": "stdout",
     "output_type": "stream",
     "text": [
      "[6, 7, 8, 9, 2, 3, 100]\n"
     ]
    }
   ],
   "source": [
    "print(my_list)"
   ]
  },
  {
   "cell_type": "code",
   "execution_count": 6,
   "id": "0a7d9a93",
   "metadata": {},
   "outputs": [],
   "source": [
    "my_list.insert(2,88)"
   ]
  },
  {
   "cell_type": "code",
   "execution_count": 7,
   "id": "7624f487",
   "metadata": {},
   "outputs": [
    {
     "name": "stdout",
     "output_type": "stream",
     "text": [
      "[6, 7, 88, 8, 9, 2, 3, 100]\n"
     ]
    }
   ],
   "source": [
    "print(my_list)"
   ]
  },
  {
   "cell_type": "code",
   "execution_count": 8,
   "id": "1d3dc6a3",
   "metadata": {},
   "outputs": [
    {
     "name": "stdout",
     "output_type": "stream",
     "text": [
      "[6, 7, 88, 8, 9, 2, 3, 100]\n",
      "100\n",
      "[6, 7, 88, 8, 9, 2, 3]\n"
     ]
    }
   ],
   "source": [
    "print(my_list)\n",
    "ele=my_list.pop()\n",
    "print(ele)\n",
    "print(my_list)"
   ]
  },
  {
   "cell_type": "code",
   "execution_count": 9,
   "id": "3c748afb",
   "metadata": {},
   "outputs": [
    {
     "name": "stdout",
     "output_type": "stream",
     "text": [
      "[6, 7, 88, 8, 9, 2, 3]\n",
      "[6, 7, 88, 9, 2, 3]\n"
     ]
    }
   ],
   "source": [
    "print(my_list)\n",
    "my_list.remove(8)\n",
    "print(my_list)"
   ]
  },
  {
   "cell_type": "code",
   "execution_count": 10,
   "id": "42c09775",
   "metadata": {},
   "outputs": [
    {
     "name": "stdout",
     "output_type": "stream",
     "text": [
      "[6, 7, 88, 9, 2, 3]\n",
      "[3, 2, 9, 88, 7, 6]\n"
     ]
    }
   ],
   "source": [
    "print(my_list)\n",
    "my_list.reverse()\n",
    "print(my_list)"
   ]
  },
  {
   "cell_type": "markdown",
   "id": "b915963e",
   "metadata": {},
   "source": [
    "# `Append` Vs `Extend`"
   ]
  },
  {
   "cell_type": "code",
   "execution_count": 11,
   "id": "0e83fe7b",
   "metadata": {},
   "outputs": [],
   "source": [
    "list=[10,20,30,40]"
   ]
  },
  {
   "cell_type": "code",
   "execution_count": 12,
   "id": "20955bfa",
   "metadata": {},
   "outputs": [
    {
     "name": "stdout",
     "output_type": "stream",
     "text": [
      "[10, 20, 30, 40]\n"
     ]
    }
   ],
   "source": [
    "print(list)"
   ]
  },
  {
   "cell_type": "code",
   "execution_count": 13,
   "id": "4c9f9baa",
   "metadata": {},
   "outputs": [
    {
     "name": "stdout",
     "output_type": "stream",
     "text": [
      "[10, 20, 30, 40, [50, 60, 70]]\n"
     ]
    }
   ],
   "source": [
    "list.append([50,60,70])\n",
    "print(list)"
   ]
  },
  {
   "cell_type": "code",
   "execution_count": 14,
   "id": "35ab1de8",
   "metadata": {},
   "outputs": [
    {
     "name": "stdout",
     "output_type": "stream",
     "text": [
      "[10, 20, 30, 40, [50, 60, 70], 80, 90, 100]\n"
     ]
    }
   ],
   "source": [
    "list.extend([80,90,100])\n",
    "print(list)"
   ]
  },
  {
   "cell_type": "code",
   "execution_count": 15,
   "id": "684cbf16",
   "metadata": {},
   "outputs": [
    {
     "data": {
      "text/plain": [
       "[10, 20, 30, 40, [50, 60, 70], 80, 90, 100, 110, 120, 130]"
      ]
     },
     "execution_count": 15,
     "metadata": {},
     "output_type": "execute_result"
    }
   ],
   "source": [
    "list + [110,120,130]\n"
   ]
  },
  {
   "cell_type": "markdown",
   "id": "1552bdd6",
   "metadata": {},
   "source": [
    "# heterogeneous Lists"
   ]
  },
  {
   "cell_type": "code",
   "execution_count": 16,
   "id": "e7ba2c19",
   "metadata": {},
   "outputs": [
    {
     "name": "stdout",
     "output_type": "stream",
     "text": [
      "[6, True, [9, 8, 7, 8], 'yash', 6.0]\n"
     ]
    }
   ],
   "source": [
    "list=[6,True,[9,8,7,8],\"yash\",6.0]\n",
    "print(list)"
   ]
  },
  {
   "cell_type": "code",
   "execution_count": 17,
   "id": "5d34d2bc",
   "metadata": {},
   "outputs": [],
   "source": [
    "list.reverse()"
   ]
  },
  {
   "cell_type": "code",
   "execution_count": 18,
   "id": "64f20f61",
   "metadata": {},
   "outputs": [
    {
     "name": "stdout",
     "output_type": "stream",
     "text": [
      "[6.0, 'yash', [9, 8, 7, 8], True, 6]\n"
     ]
    }
   ],
   "source": [
    "print(list)"
   ]
  },
  {
   "cell_type": "code",
   "execution_count": 19,
   "id": "beb9beaf",
   "metadata": {},
   "outputs": [],
   "source": [
    "s=\"yash varshney is want SDE job\""
   ]
  },
  {
   "cell_type": "code",
   "execution_count": 20,
   "id": "b313374f",
   "metadata": {},
   "outputs": [],
   "source": [
    "str=s.split()"
   ]
  },
  {
   "cell_type": "code",
   "execution_count": 24,
   "id": "48061882",
   "metadata": {},
   "outputs": [
    {
     "data": {
      "text/plain": [
       "'yash*varshney*is*want*SDE*job'"
      ]
     },
     "execution_count": 24,
     "metadata": {},
     "output_type": "execute_result"
    }
   ],
   "source": [
    "\"*\".join(str)"
   ]
  },
  {
   "cell_type": "code",
   "execution_count": 25,
   "id": "4470452a",
   "metadata": {},
   "outputs": [
    {
     "name": "stdout",
     "output_type": "stream",
     "text": [
      "[1, 2, 3, 4, 5, 6, 7, 8, 9]\n",
      "1\n",
      "2\n",
      "3\n",
      "4\n",
      "5\n",
      "6\n",
      "7\n",
      "8\n",
      "9\n",
      "[1, 4, 9, 16, 25, 36, 49, 64, 81]\n"
     ]
    }
   ],
   "source": [
    "lt=[1,2,3,4,5,6,7,8,9]\n",
    "print(lt)\n",
    "# List comprehension\n",
    "new_list=[]\n",
    "for i in lt:\n",
    "    new_list.append(i**2)\n",
    "    print(i)\n",
    "print(new_list)"
   ]
  },
  {
   "cell_type": "code",
   "execution_count": 26,
   "id": "236ac3b5",
   "metadata": {},
   "outputs": [
    {
     "name": "stdout",
     "output_type": "stream",
     "text": [
      "[1, 4, 9, 16, 25, 36, 49, 64, 81]\n"
     ]
    }
   ],
   "source": [
    "new_2=[i**2 for i in lt]\n",
    "print(new_2)"
   ]
  },
  {
   "cell_type": "markdown",
   "id": "467ed0a1",
   "metadata": {},
   "source": [
    "# multiDimensional Lists"
   ]
  },
  {
   "cell_type": "code",
   "execution_count": 2,
   "id": "658e6eee",
   "metadata": {},
   "outputs": [
    {
     "name": "stdout",
     "output_type": "stream",
     "text": [
      "[[1, 2], [4, 5]]\n",
      "[[1, 2], [4, 5]]\n"
     ]
    }
   ],
   "source": [
    "A=[[1,2],[4,5]]\n",
    "print(A)\n",
    "B=[[1,2],[4,5]]\n",
    "print(B)"
   ]
  },
  {
   "cell_type": "code",
   "execution_count": 4,
   "id": "4f81c4ef",
   "metadata": {},
   "outputs": [
    {
     "name": "stdout",
     "output_type": "stream",
     "text": [
      "[[2, 4], [8, 10]]\n"
     ]
    }
   ],
   "source": [
    "c=[[None,None],[None,None]];\n",
    "for i in range(2):\n",
    "    for j in range(2):\n",
    "        c[i][j]=A[i][j]+B[i][j]\n",
    "print(c)\n",
    "   "
   ]
  },
  {
   "cell_type": "code",
   "execution_count": null,
   "id": "9ed3ce54",
   "metadata": {},
   "outputs": [],
   "source": []
  }
 ],
 "metadata": {
  "kernelspec": {
   "display_name": "Python 3 (ipykernel)",
   "language": "python",
   "name": "python3"
  },
  "language_info": {
   "codemirror_mode": {
    "name": "ipython",
    "version": 3
   },
   "file_extension": ".py",
   "mimetype": "text/x-python",
   "name": "python",
   "nbconvert_exporter": "python",
   "pygments_lexer": "ipython3",
   "version": "3.9.12"
  }
 },
 "nbformat": 4,
 "nbformat_minor": 5
}
