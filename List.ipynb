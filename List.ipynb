{
 "cells": [
  {
   "cell_type": "code",
   "execution_count": 2,
   "id": "78204e9a",
   "metadata": {},
   "outputs": [],
   "source": [
    "lst=list()\n",
    "lst=[]"
   ]
  },
  {
   "cell_type": "code",
   "execution_count": 3,
   "id": "485bb3a6",
   "metadata": {},
   "outputs": [],
   "source": [
    "my_list=[6,7,8,9,2,3]"
   ]
  },
  {
   "cell_type": "code",
   "execution_count": 4,
   "id": "7465779e",
   "metadata": {},
   "outputs": [
    {
     "name": "stdout",
     "output_type": "stream",
     "text": [
      "[6, 7, 8, 9, 2, 3]\n"
     ]
    }
   ],
   "source": [
    "print(my_list)"
   ]
  },
  {
   "cell_type": "markdown",
   "id": "0fb4ecb3",
   "metadata": {},
   "source": [
    "# Some important methods list:\n",
    "- append\n",
    "- insert\n",
    "- pop\n",
    "- remove\n",
    "- reverse\n",
    "- sort\n",
    "- extend\n",
    " "
   ]
  },
  {
   "cell_type": "code",
   "execution_count": 6,
   "id": "67c0136d",
   "metadata": {},
   "outputs": [],
   "source": [
    "my_list.append(100)"
   ]
  },
  {
   "cell_type": "code",
   "execution_count": 7,
   "id": "cfd551dd",
   "metadata": {},
   "outputs": [
    {
     "name": "stdout",
     "output_type": "stream",
     "text": [
      "[6, 7, 8, 9, 2, 3, 100]\n"
     ]
    }
   ],
   "source": [
    "print(my_list)"
   ]
  },
  {
   "cell_type": "code",
   "execution_count": 8,
   "id": "0a7d9a93",
   "metadata": {},
   "outputs": [],
   "source": [
    "my_list.insert(2,88)"
   ]
  },
  {
   "cell_type": "code",
   "execution_count": 9,
   "id": "7624f487",
   "metadata": {},
   "outputs": [
    {
     "name": "stdout",
     "output_type": "stream",
     "text": [
      "[6, 7, 88, 8, 9, 2, 3, 100]\n"
     ]
    }
   ],
   "source": [
    "print(my_list)"
   ]
  },
  {
   "cell_type": "code",
   "execution_count": 12,
   "id": "1d3dc6a3",
   "metadata": {},
   "outputs": [
    {
     "name": "stdout",
     "output_type": "stream",
     "text": [
      "[6, 7, 88, 8, 9, 2]\n",
      "2\n",
      "[6, 7, 88, 8, 9]\n"
     ]
    }
   ],
   "source": [
    "print(my_list)\n",
    "ele=my_list.pop()\n",
    "print(ele)\n",
    "print(my_list)"
   ]
  },
  {
   "cell_type": "code",
   "execution_count": 16,
   "id": "3c748afb",
   "metadata": {},
   "outputs": [
    {
     "name": "stdout",
     "output_type": "stream",
     "text": [
      "[6, 7, 8]\n",
      "[6, 7]\n"
     ]
    }
   ],
   "source": [
    "print(my_list)\n",
    "my_list.remove(8)\n",
    "print(my_list)"
   ]
  },
  {
   "cell_type": "code",
   "execution_count": 18,
   "id": "42c09775",
   "metadata": {},
   "outputs": [
    {
     "name": "stdout",
     "output_type": "stream",
     "text": [
      "[7, 6]\n",
      "[6, 7]\n"
     ]
    }
   ],
   "source": [
    "print(my_list)\n",
    "my_list.reverse()\n",
    "print(my_list)"
   ]
  },
  {
   "cell_type": "markdown",
   "id": "b915963e",
   "metadata": {},
   "source": [
    "# `Append` Vs `Extend`"
   ]
  },
  {
   "cell_type": "code",
   "execution_count": 19,
   "id": "0e83fe7b",
   "metadata": {},
   "outputs": [],
   "source": [
    "list=[10,20,30,40]"
   ]
  },
  {
   "cell_type": "code",
   "execution_count": 20,
   "id": "20955bfa",
   "metadata": {},
   "outputs": [
    {
     "name": "stdout",
     "output_type": "stream",
     "text": [
      "[10, 20, 30, 40]\n"
     ]
    }
   ],
   "source": [
    "print(list)"
   ]
  },
  {
   "cell_type": "code",
   "execution_count": 21,
   "id": "4c9f9baa",
   "metadata": {},
   "outputs": [
    {
     "name": "stdout",
     "output_type": "stream",
     "text": [
      "[10, 20, 30, 40, [50, 60, 70]]\n"
     ]
    }
   ],
   "source": [
    "list.append([50,60,70])\n",
    "print(list)"
   ]
  },
  {
   "cell_type": "code",
   "execution_count": 22,
   "id": "35ab1de8",
   "metadata": {},
   "outputs": [
    {
     "name": "stdout",
     "output_type": "stream",
     "text": [
      "[10, 20, 30, 40, [50, 60, 70], 80, 90, 100]\n"
     ]
    }
   ],
   "source": [
    "list.extend([80,90,100])\n",
    "print(list)"
   ]
  },
  {
   "cell_type": "code",
   "execution_count": 26,
   "id": "684cbf16",
   "metadata": {},
   "outputs": [
    {
     "data": {
      "text/plain": [
       "[10, 20, 30, 40, [50, 60, 70], 80, 90, 100, 110, 120, 130]"
      ]
     },
     "execution_count": 26,
     "metadata": {},
     "output_type": "execute_result"
    }
   ],
   "source": [
    "list + [110,120,130]\n"
   ]
  },
  {
   "cell_type": "code",
   "execution_count": null,
   "id": "6346a42f",
   "metadata": {},
   "outputs": [],
   "source": []
  }
 ],
 "metadata": {
  "kernelspec": {
   "display_name": "Python 3 (ipykernel)",
   "language": "python",
   "name": "python3"
  },
  "language_info": {
   "codemirror_mode": {
    "name": "ipython",
    "version": 3
   },
   "file_extension": ".py",
   "mimetype": "text/x-python",
   "name": "python",
   "nbconvert_exporter": "python",
   "pygments_lexer": "ipython3",
   "version": "3.9.12"
  }
 },
 "nbformat": 4,
 "nbformat_minor": 5
}
