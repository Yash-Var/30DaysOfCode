{
 "cells": [
  {
   "cell_type": "markdown",
   "id": "19a73192",
   "metadata": {},
   "source": [
    "# Dictionary\n",
    " - stores data in key-value pair\n",
    " - unordered \n",
    " - unindexable\n",
    " - access the values, with help of keys"
   ]
  },
  {
   "cell_type": "code",
   "execution_count": 1,
   "id": "4bc65836",
   "metadata": {},
   "outputs": [],
   "source": [
    "dic={}\n",
    "dic=dict()"
   ]
  },
  {
   "cell_type": "code",
   "execution_count": 2,
   "id": "5d74cf71",
   "metadata": {},
   "outputs": [
    {
     "data": {
      "text/plain": [
       "{}"
      ]
     },
     "execution_count": 2,
     "metadata": {},
     "output_type": "execute_result"
    }
   ],
   "source": [
    "dic\n"
   ]
  },
  {
   "cell_type": "code",
   "execution_count": 4,
   "id": "561f5e4b",
   "metadata": {},
   "outputs": [
    {
     "data": {
      "text/plain": [
       "dict"
      ]
     },
     "execution_count": 4,
     "metadata": {},
     "output_type": "execute_result"
    }
   ],
   "source": [
    "type(dic)"
   ]
  },
  {
   "cell_type": "code",
   "execution_count": 10,
   "id": "90a9fcb9",
   "metadata": {},
   "outputs": [
    {
     "data": {
      "text/plain": [
       "{1: 'abc', 2: 'xyz'}"
      ]
     },
     "execution_count": 10,
     "metadata": {},
     "output_type": "execute_result"
    }
   ],
   "source": [
    "my_dict=dict([(1,'abc'),(2,'xyz')])\n",
    "my_dict"
   ]
  },
  {
   "cell_type": "code",
   "execution_count": 11,
   "id": "a5d36d70",
   "metadata": {},
   "outputs": [],
   "source": [
    "user_info={\n",
    "    \"name\":\"mohit\",\n",
    "    \"age\":24,\n",
    "    \"nationality\":\"Indian\"\n",
    "}"
   ]
  },
  {
   "cell_type": "code",
   "execution_count": 12,
   "id": "2d27a442",
   "metadata": {},
   "outputs": [
    {
     "data": {
      "text/plain": [
       "{'name': 'mohit', 'age': 24, 'nationality': 'Indian'}"
      ]
     },
     "execution_count": 12,
     "metadata": {},
     "output_type": "execute_result"
    }
   ],
   "source": [
    "user_info"
   ]
  },
  {
   "cell_type": "code",
   "execution_count": 14,
   "id": "c8b1ff58",
   "metadata": {},
   "outputs": [
    {
     "name": "stdout",
     "output_type": "stream",
     "text": [
      "mohit\n"
     ]
    }
   ],
   "source": [
    "# acessing elements\n",
    "print(user_info['name'])"
   ]
  },
  {
   "cell_type": "code",
   "execution_count": 16,
   "id": "3fbedaa8",
   "metadata": {},
   "outputs": [],
   "source": [
    "user_info.get('hobby')"
   ]
  },
  {
   "cell_type": "code",
   "execution_count": 17,
   "id": "3da4affd",
   "metadata": {},
   "outputs": [
    {
     "data": {
      "text/plain": [
       "'mohit'"
      ]
     },
     "execution_count": 17,
     "metadata": {},
     "output_type": "execute_result"
    }
   ],
   "source": [
    "user_info.get('name')"
   ]
  },
  {
   "cell_type": "markdown",
   "id": "9b85e877",
   "metadata": {},
   "source": [
    "# adding new key"
   ]
  },
  {
   "cell_type": "code",
   "execution_count": 18,
   "id": "c647d138",
   "metadata": {},
   "outputs": [],
   "source": [
    "user_info['hobby']=['singing','cricket','coding']"
   ]
  },
  {
   "cell_type": "code",
   "execution_count": 19,
   "id": "eee1a9ae",
   "metadata": {},
   "outputs": [
    {
     "name": "stdout",
     "output_type": "stream",
     "text": [
      "{'name': 'mohit', 'age': 24, 'nationality': 'Indian', 'hobby': ['singing', 'cricket', 'coding']}\n"
     ]
    }
   ],
   "source": [
    "print(user_info)"
   ]
  },
  {
   "cell_type": "code",
   "execution_count": null,
   "id": "e3b34b93",
   "metadata": {},
   "outputs": [],
   "source": []
  }
 ],
 "metadata": {
  "kernelspec": {
   "display_name": "Python 3 (ipykernel)",
   "language": "python",
   "name": "python3"
  },
  "language_info": {
   "codemirror_mode": {
    "name": "ipython",
    "version": 3
   },
   "file_extension": ".py",
   "mimetype": "text/x-python",
   "name": "python",
   "nbconvert_exporter": "python",
   "pygments_lexer": "ipython3",
   "version": "3.9.12"
  }
 },
 "nbformat": 4,
 "nbformat_minor": 5
}
