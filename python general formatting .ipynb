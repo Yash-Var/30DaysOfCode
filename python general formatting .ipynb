{
 "cells": [
  {
   "cell_type": "code",
   "execution_count": null,
   "id": "e310dcc2",
   "metadata": {},
   "outputs": [],
   "source": [
    "num=int(input(\"enter your age :\"))"
   ]
  },
  {
   "cell_type": "code",
   "execution_count": 3,
   "id": "76aa4868",
   "metadata": {},
   "outputs": [
    {
     "name": "stdout",
     "output_type": "stream",
     "text": [
      "20\n"
     ]
    }
   ],
   "source": [
    "print(num)"
   ]
  },
  {
   "cell_type": "code",
   "execution_count": 4,
   "id": "3c54e42d",
   "metadata": {},
   "outputs": [
    {
     "name": "stdout",
     "output_type": "stream",
     "text": [
      "<class 'int'>\n"
     ]
    }
   ],
   "source": [
    "print(type(num))"
   ]
  },
  {
   "cell_type": "code",
   "execution_count": 5,
   "id": "984cd92a",
   "metadata": {},
   "outputs": [],
   "source": [
    "num=10"
   ]
  },
  {
   "cell_type": "code",
   "execution_count": 6,
   "id": "5f663170",
   "metadata": {},
   "outputs": [],
   "source": [
    "n=1+2+3+\\\n",
    "  4+5+6+\\\n",
    "  7+8"
   ]
  },
  {
   "cell_type": "code",
   "execution_count": 7,
   "id": "14929559",
   "metadata": {},
   "outputs": [
    {
     "name": "stdout",
     "output_type": "stream",
     "text": [
      "36\n"
     ]
    }
   ],
   "source": [
    "print(n)"
   ]
  },
  {
   "cell_type": "code",
   "execution_count": 8,
   "id": "a10b15ad",
   "metadata": {},
   "outputs": [],
   "source": [
    "n2=(1+2+3+\n",
    "  4+5+6+\n",
    "  7+8)"
   ]
  },
  {
   "cell_type": "code",
   "execution_count": 9,
   "id": "463d7020",
   "metadata": {},
   "outputs": [
    {
     "name": "stdout",
     "output_type": "stream",
     "text": [
      "36\n"
     ]
    }
   ],
   "source": [
    "\n",
    "print(n2)"
   ]
  },
  {
   "cell_type": "markdown",
   "id": "6cd6b090",
   "metadata": {},
   "source": [
    "# Output formatting"
   ]
  },
  {
   "cell_type": "code",
   "execution_count": 20,
   "id": "c65f3df1",
   "metadata": {},
   "outputs": [
    {
     "name": "stdout",
     "output_type": "stream",
     "text": [
      "The value of a is 10 and b is 20\n"
     ]
    }
   ],
   "source": [
    "a=10\n",
    "b=20\n",
    "print(\"The value of a is {} and b is {}\".format(a,b)) #deafult"
   ]
  },
  {
   "cell_type": "code",
   "execution_count": 21,
   "id": "cda513f5",
   "metadata": {},
   "outputs": [
    {
     "name": "stdout",
     "output_type": "stream",
     "text": [
      "The value of a is 20 and b is 10\n"
     ]
    }
   ],
   "source": [
    "a=10\n",
    "b=20\n",
    "print(\"The value of a is {1} and b is {0}\".format(a,b)) #specified the position"
   ]
  },
  {
   "cell_type": "markdown",
   "id": "8984b12e",
   "metadata": {},
   "source": [
    "# Membership operator\n",
    "  # -in"
   ]
  },
  {
   "cell_type": "code",
   "execution_count": 1,
   "id": "1387dc90",
   "metadata": {},
   "outputs": [],
   "source": [
    "my_str =\"yash varshney\""
   ]
  },
  {
   "cell_type": "code",
   "execution_count": 2,
   "id": "1d7e836c",
   "metadata": {},
   "outputs": [
    {
     "data": {
      "text/plain": [
       "True"
      ]
     },
     "execution_count": 2,
     "metadata": {},
     "output_type": "execute_result"
    }
   ],
   "source": [
    "\"yash\" in my_str"
   ]
  },
  {
   "cell_type": "code",
   "execution_count": 3,
   "id": "a36936ee",
   "metadata": {},
   "outputs": [
    {
     "data": {
      "text/plain": [
       "False"
      ]
     },
     "execution_count": 3,
     "metadata": {},
     "output_type": "execute_result"
    }
   ],
   "source": [
    "\"akshat\" in my_str"
   ]
  },
  {
   "cell_type": "markdown",
   "id": "3ffffdb5",
   "metadata": {},
   "source": [
    "# if else"
   ]
  },
  {
   "cell_type": "code",
   "execution_count": 4,
   "id": "7fb92697",
   "metadata": {},
   "outputs": [
    {
     "name": "stdout",
     "output_type": "stream",
     "text": [
      "not eligible to vote....\n"
     ]
    }
   ],
   "source": [
    "age=14\n",
    "if(age>=18):\n",
    "    print(\"eligible to vote...\")\n",
    "else:\n",
    "    print(\"not eligible to vote....\")"
   ]
  },
  {
   "cell_type": "markdown",
   "id": "ae3bfa5a",
   "metadata": {},
   "source": [
    "### elif\n",
    "    - else if"
   ]
  },
  {
   "cell_type": "code",
   "execution_count": 6,
   "id": "86356654",
   "metadata": {},
   "outputs": [
    {
     "name": "stdout",
     "output_type": "stream",
     "text": [
      "number is negative\n"
     ]
    }
   ],
   "source": [
    "num=-10\n",
    "if(num>0):\n",
    "    print(\"positive number\")\n",
    "elif(num==0):\n",
    "    print(\"number is zero\")\n",
    "else:\n",
    "    print(\"number is negative\")"
   ]
  },
  {
   "cell_type": "markdown",
   "id": "209140a6",
   "metadata": {},
   "source": [
    "# Largest number among three numbers"
   ]
  },
  {
   "cell_type": "code",
   "execution_count": 7,
   "id": "ed7de2d2",
   "metadata": {},
   "outputs": [
    {
     "name": "stdout",
     "output_type": "stream",
     "text": [
      "Enter the number 1 : 23\n",
      "Enter the number 2 : 45\n",
      "Enter the number 3 : 67\n",
      "67 is largest number \n"
     ]
    }
   ],
   "source": [
    "num1=int(input(\"Enter the number 1 : \"))\n",
    "num2=int(input(\"Enter the number 2 : \"))\n",
    "num3=int(input(\"Enter the number 3 : \"))\n",
    "if((num1>num2) and (num1>num3)):\n",
    "    print(\"{} is largest number \".format(num1))\n",
    "elif((num2>num1) and (num2>num3)):\n",
    "    print(\"{} is largest number \".format(num2))\n",
    "else:\n",
    "    print(\"{} is largest number \".format(num3))"
   ]
  },
  {
   "cell_type": "markdown",
   "id": "c150126f",
   "metadata": {},
   "source": [
    "# while loop"
   ]
  },
  {
   "cell_type": "code",
   "execution_count": 3,
   "id": "7037bbb8",
   "metadata": {},
   "outputs": [
    {
     "name": "stdout",
     "output_type": "stream",
     "text": [
      "2\n",
      "4\n",
      "6\n",
      "8\n",
      "10\n",
      "12\n",
      "14\n",
      "16\n",
      "18\n",
      "20\n"
     ]
    }
   ],
   "source": [
    "i=1\n",
    "while(i<=20):\n",
    "    if(i%2==0):\n",
    "        print(i)\n",
    "    i+=1"
   ]
  },
  {
   "cell_type": "code",
   "execution_count": null,
   "id": "5527a549",
   "metadata": {},
   "outputs": [],
   "source": []
  }
 ],
 "metadata": {
  "kernelspec": {
   "display_name": "Python 3 (ipykernel)",
   "language": "python",
   "name": "python3"
  },
  "language_info": {
   "codemirror_mode": {
    "name": "ipython",
    "version": 3
   },
   "file_extension": ".py",
   "mimetype": "text/x-python",
   "name": "python",
   "nbconvert_exporter": "python",
   "pygments_lexer": "ipython3",
   "version": "3.9.12"
  }
 },
 "nbformat": 4,
 "nbformat_minor": 5
}
