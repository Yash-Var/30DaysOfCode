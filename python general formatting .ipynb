{
 "cells": [
  {
   "cell_type": "code",
   "execution_count": null,
   "id": "e310dcc2",
   "metadata": {},
   "outputs": [],
   "source": [
    "num=int(input(\"enter your age :\"))"
   ]
  },
  {
   "cell_type": "code",
   "execution_count": 3,
   "id": "76aa4868",
   "metadata": {},
   "outputs": [
    {
     "name": "stdout",
     "output_type": "stream",
     "text": [
      "20\n"
     ]
    }
   ],
   "source": [
    "print(num)"
   ]
  },
  {
   "cell_type": "code",
   "execution_count": 4,
   "id": "3c54e42d",
   "metadata": {},
   "outputs": [
    {
     "name": "stdout",
     "output_type": "stream",
     "text": [
      "<class 'int'>\n"
     ]
    }
   ],
   "source": [
    "print(type(num))"
   ]
  },
  {
   "cell_type": "code",
   "execution_count": 5,
   "id": "984cd92a",
   "metadata": {},
   "outputs": [],
   "source": [
    "num=10"
   ]
  },
  {
   "cell_type": "code",
   "execution_count": 6,
   "id": "5f663170",
   "metadata": {},
   "outputs": [],
   "source": [
    "n=1+2+3+\\\n",
    "  4+5+6+\\\n",
    "  7+8"
   ]
  },
  {
   "cell_type": "code",
   "execution_count": 7,
   "id": "14929559",
   "metadata": {},
   "outputs": [
    {
     "name": "stdout",
     "output_type": "stream",
     "text": [
      "36\n"
     ]
    }
   ],
   "source": [
    "print(n)"
   ]
  },
  {
   "cell_type": "code",
   "execution_count": 8,
   "id": "a10b15ad",
   "metadata": {},
   "outputs": [],
   "source": [
    "n2=(1+2+3+\n",
    "  4+5+6+\n",
    "  7+8)"
   ]
  },
  {
   "cell_type": "code",
   "execution_count": 9,
   "id": "463d7020",
   "metadata": {},
   "outputs": [
    {
     "name": "stdout",
     "output_type": "stream",
     "text": [
      "36\n"
     ]
    }
   ],
   "source": [
    "\n",
    "print(n2)"
   ]
  },
  {
   "cell_type": "markdown",
   "id": "6cd6b090",
   "metadata": {},
   "source": [
    "# Output formatting"
   ]
  },
  {
   "cell_type": "code",
   "execution_count": 20,
   "id": "c65f3df1",
   "metadata": {},
   "outputs": [
    {
     "name": "stdout",
     "output_type": "stream",
     "text": [
      "The value of a is 10 and b is 20\n"
     ]
    }
   ],
   "source": [
    "a=10\n",
    "b=20\n",
    "print(\"The value of a is {} and b is {}\".format(a,b)) #deafult"
   ]
  },
  {
   "cell_type": "code",
   "execution_count": 21,
   "id": "cda513f5",
   "metadata": {},
   "outputs": [
    {
     "name": "stdout",
     "output_type": "stream",
     "text": [
      "The value of a is 20 and b is 10\n"
     ]
    }
   ],
   "source": [
    "a=10\n",
    "b=20\n",
    "print(\"The value of a is {1} and b is {0}\".format(a,b)) #specified the position"
   ]
  },
  {
   "cell_type": "markdown",
   "id": "8984b12e",
   "metadata": {},
   "source": [
    "# Membership operator\n",
    "  # -in"
   ]
  },
  {
   "cell_type": "code",
   "execution_count": 1,
   "id": "1387dc90",
   "metadata": {},
   "outputs": [],
   "source": [
    "my_str =\"yash varshney\""
   ]
  },
  {
   "cell_type": "code",
   "execution_count": 2,
   "id": "1d7e836c",
   "metadata": {},
   "outputs": [
    {
     "data": {
      "text/plain": [
       "True"
      ]
     },
     "execution_count": 2,
     "metadata": {},
     "output_type": "execute_result"
    }
   ],
   "source": [
    "\"yash\" in my_str"
   ]
  },
  {
   "cell_type": "code",
   "execution_count": 3,
   "id": "a36936ee",
   "metadata": {},
   "outputs": [
    {
     "data": {
      "text/plain": [
       "False"
      ]
     },
     "execution_count": 3,
     "metadata": {},
     "output_type": "execute_result"
    }
   ],
   "source": [
    "\"akshat\" in my_str"
   ]
  },
  {
   "cell_type": "markdown",
   "id": "3ffffdb5",
   "metadata": {},
   "source": [
    "# if else"
   ]
  },
  {
   "cell_type": "code",
   "execution_count": 4,
   "id": "7fb92697",
   "metadata": {},
   "outputs": [
    {
     "name": "stdout",
     "output_type": "stream",
     "text": [
      "not eligible to vote....\n"
     ]
    }
   ],
   "source": [
    "age=14\n",
    "if(age>=18):\n",
    "    print(\"eligible to vote...\")\n",
    "else:\n",
    "    print(\"not eligible to vote....\")"
   ]
  },
  {
   "cell_type": "markdown",
   "id": "ae3bfa5a",
   "metadata": {},
   "source": [
    "### elif\n",
    "    - else if"
   ]
  },
  {
   "cell_type": "code",
   "execution_count": 6,
   "id": "86356654",
   "metadata": {},
   "outputs": [
    {
     "name": "stdout",
     "output_type": "stream",
     "text": [
      "number is negative\n"
     ]
    }
   ],
   "source": [
    "num=-10\n",
    "if(num>0):\n",
    "    print(\"positive number\")\n",
    "elif(num==0):\n",
    "    print(\"number is zero\")\n",
    "else:\n",
    "    print(\"number is negative\")"
   ]
  },
  {
   "cell_type": "markdown",
   "id": "209140a6",
   "metadata": {},
   "source": [
    "# Largest number among three numbers"
   ]
  },
  {
   "cell_type": "code",
   "execution_count": 7,
   "id": "ed7de2d2",
   "metadata": {},
   "outputs": [
    {
     "name": "stdout",
     "output_type": "stream",
     "text": [
      "Enter the number 1 : 23\n",
      "Enter the number 2 : 45\n",
      "Enter the number 3 : 67\n",
      "67 is largest number \n"
     ]
    }
   ],
   "source": [
    "num1=int(input(\"Enter the number 1 : \"))\n",
    "num2=int(input(\"Enter the number 2 : \"))\n",
    "num3=int(input(\"Enter the number 3 : \"))\n",
    "if((num1>num2) and (num1>num3)):\n",
    "    print(\"{} is largest number \".format(num1))\n",
    "elif((num2>num1) and (num2>num3)):\n",
    "    print(\"{} is largest number \".format(num2))\n",
    "else:\n",
    "    print(\"{} is largest number \".format(num3))"
   ]
  },
  {
   "cell_type": "markdown",
   "id": "c2f84a6e",
   "metadata": {},
   "source": [
    "# while loop"
   ]
  },
  {
   "cell_type": "code",
   "execution_count": 11,
   "id": "fda50634",
   "metadata": {},
   "outputs": [
    {
     "name": "stdout",
     "output_type": "stream",
     "text": [
      "2 4 6 8 10 12 14 16 18 20 "
     ]
    }
   ],
   "source": [
    "i=1\n",
    "while(i<=20):\n",
    "    if(i%2==0):\n",
    "        print(i,end=\" \")\n",
    "    i+=1"
   ]
  },
  {
   "cell_type": "markdown",
   "id": "f6a3f71a",
   "metadata": {},
   "source": [
    "# for loop"
   ]
  },
  {
   "cell_type": "code",
   "execution_count": 10,
   "id": "876a1bb6",
   "metadata": {},
   "outputs": [
    {
     "name": "stdout",
     "output_type": "stream",
     "text": [
      "3 4 5 6 7 8 9 10 11 12 "
     ]
    }
   ],
   "source": [
    "for ele in range(3,13):\n",
    "    print(ele , end=\" \")"
   ]
  },
  {
   "cell_type": "code",
   "execution_count": 9,
   "id": "3958c94d",
   "metadata": {},
   "outputs": [
    {
     "name": "stdout",
     "output_type": "stream",
     "text": [
      "3 5 7 9 11 "
     ]
    }
   ],
   "source": [
    "for ele in range(3,13,2):\n",
    "    print(ele , end=\" \")"
   ]
  },
  {
   "cell_type": "markdown",
   "id": "89e5a2f6",
   "metadata": {},
   "source": [
    "### Pattern\n",
    "   # *\n",
    "   # * *\n",
    "   # * * *"
   ]
  },
  {
   "cell_type": "code",
   "execution_count": 19,
   "id": "d57003fd",
   "metadata": {},
   "outputs": [
    {
     "name": "stdout",
     "output_type": "stream",
     "text": [
      "* \n",
      "* * \n",
      "* * * \n"
     ]
    }
   ],
   "source": [
    "for i in range(1,4):\n",
    "    for j in range(1,i+1):\n",
    "        print(\"* \",end=\"\")\n",
    "    print(end=\"\\n\")"
   ]
  },
  {
   "cell_type": "code",
   "execution_count": 23,
   "id": "1a215a54",
   "metadata": {},
   "outputs": [
    {
     "name": "stdout",
     "output_type": "stream",
     "text": [
      "* \n",
      "* * \n",
      "* * * \n"
     ]
    }
   ],
   "source": [
    "for i in range(1,4):\n",
    "    print(\"* \"*i)"
   ]
  },
  {
   "cell_type": "code",
   "execution_count": 38,
   "id": "9fcc8dab",
   "metadata": {},
   "outputs": [
    {
     "name": "stdout",
     "output_type": "stream",
     "text": [
      "* * * \n",
      "* * \n",
      "* \n"
     ]
    }
   ],
   "source": [
    "row=4\n",
    "for i in range(row,1,-1):\n",
    "    for j in range(1,i):\n",
    "         print(\"*\",end=\" \")\n",
    "    print(\"\")"
   ]
  },
  {
   "cell_type": "markdown",
   "id": "70caf9e1",
   "metadata": {},
   "source": [
    "# sum of n number"
   ]
  },
  {
   "cell_type": "code",
   "execution_count": 43,
   "id": "e3879130",
   "metadata": {},
   "outputs": [
    {
     "name": "stdout",
     "output_type": "stream",
     "text": [
      "enter the value of n : 10\n",
      "Sum of first 10 number is : 55 \n"
     ]
    }
   ],
   "source": [
    "sum=0\n",
    "n=int(input(\"enter the value of n : \"))\n",
    "for i in range(1,n+1):\n",
    "    sum+=i\n",
    "print(\"Sum of first {} number is : {} \".format(n,sum))"
   ]
  },
  {
   "cell_type": "markdown",
   "id": "3c64f8a1",
   "metadata": {},
   "source": [
    "# prime number"
   ]
  },
  {
   "cell_type": "code",
   "execution_count": 44,
   "id": "d6f663e2",
   "metadata": {},
   "outputs": [
    {
     "name": "stdout",
     "output_type": "stream",
     "text": [
      "Enter the value of n : 13\n",
      "Number is Prime \n"
     ]
    }
   ],
   "source": [
    "n=int(input(\"Enter the value of n : \"))\n",
    "isPrime=True\n",
    "for i in range(2,n):\n",
    "    if(n%i==0):\n",
    "        isPrime=False\n",
    "if(isPrime):\n",
    "    print(\"Number is Prime \")\n",
    "else:\n",
    "    print(\"Number is not Prime \")"
   ]
  },
  {
   "cell_type": "code",
   "execution_count": null,
   "id": "2b6a737d",
   "metadata": {},
   "outputs": [],
   "source": [
    "new_string = \"k0a4\"\n",
    "yash=new_string\n",
    "ans=\"\"\n",
    "print(emp_str)\n",
    "emp_str = \"\"\n",
    "f=\"\"\n",
    "for m in new_string:\n",
    "    if m.isdigit():\n",
    "        emp_str = emp_str + m\n",
    "        print(emp_str)\n",
    "for n in yash:\n",
    "    if n.isalpha():\n",
    "        ans = ans + n\n",
    "print(emp_str)\n",
    "emp_str=int(emp_str)\n",
    "\n",
    "# print(ans)\n",
    "for p in ans:\n",
    "    while (emp_str!=0):\n",
    "        flag=emp_str%10\n",
    "        print(flag)\n",
    "        emp_str=int(emp_str/10)\n",
    "        temp=ord(p)-ord('a')\n",
    "        temp=(temp+flag)%26\n",
    "        y=temp+ord('a')\n",
    "        print(chr(y))\n",
    "        "
   ]
  },
  {
   "cell_type": "markdown",
   "id": "b4ba457c",
   "metadata": {},
   "source": [
    "# String Slicing"
   ]
  },
  {
   "cell_type": "code",
   "execution_count": 3,
   "id": "58a46337",
   "metadata": {},
   "outputs": [
    {
     "name": "stdout",
     "output_type": "stream",
     "text": [
      "yenhsrav hsay\n"
     ]
    }
   ],
   "source": [
    "str=\"yash varshney\"\n",
    "print(str[ ::-1])"
   ]
  },
  {
   "cell_type": "markdown",
   "id": "45da536e",
   "metadata": {},
   "source": [
    "# string method"
   ]
  },
  {
   "cell_type": "code",
   "execution_count": 5,
   "id": "e9b2f11e",
   "metadata": {},
   "outputs": [
    {
     "name": "stdout",
     "output_type": "stream",
     "text": [
      "Welcome to the course\n"
     ]
    }
   ],
   "source": [
    "str=\"Welcome to the course\"\n",
    "print(str)"
   ]
  },
  {
   "cell_type": "code",
   "execution_count": 6,
   "id": "ab889844",
   "metadata": {},
   "outputs": [
    {
     "data": {
      "text/plain": [
       "'welcome to the course'"
      ]
     },
     "execution_count": 6,
     "metadata": {},
     "output_type": "execute_result"
    }
   ],
   "source": [
    "str.lower()"
   ]
  },
  {
   "cell_type": "code",
   "execution_count": 7,
   "id": "d1e86a11",
   "metadata": {},
   "outputs": [
    {
     "data": {
      "text/plain": [
       "'WELCOME TO THE COURSE'"
      ]
     },
     "execution_count": 7,
     "metadata": {},
     "output_type": "execute_result"
    }
   ],
   "source": [
    "str.upper()"
   ]
  },
  {
   "cell_type": "code",
   "execution_count": 8,
   "id": "1b1eca5b",
   "metadata": {},
   "outputs": [
    {
     "data": {
      "text/plain": [
       "'Welcome To The Course'"
      ]
     },
     "execution_count": 8,
     "metadata": {},
     "output_type": "execute_result"
    }
   ],
   "source": [
    "str.title()"
   ]
  },
  {
   "cell_type": "code",
   "execution_count": 11,
   "id": "24429584",
   "metadata": {},
   "outputs": [
    {
     "data": {
      "text/plain": [
       "3"
      ]
     },
     "execution_count": 11,
     "metadata": {},
     "output_type": "execute_result"
    }
   ],
   "source": [
    "str.find(\"come\")"
   ]
  },
  {
   "cell_type": "code",
   "execution_count": 12,
   "id": "14e8f44e",
   "metadata": {},
   "outputs": [
    {
     "data": {
      "text/plain": [
       "['Welcome', 'to', 'the', 'course']"
      ]
     },
     "execution_count": 12,
     "metadata": {},
     "output_type": "execute_result"
    }
   ],
   "source": [
    "str.split()"
   ]
  },
  {
   "cell_type": "code",
   "execution_count": 13,
   "id": "622aac30",
   "metadata": {},
   "outputs": [
    {
     "data": {
      "text/plain": [
       "3"
      ]
     },
     "execution_count": 13,
     "metadata": {},
     "output_type": "execute_result"
    }
   ],
   "source": [
    "str.count('o')"
   ]
  },
  {
   "cell_type": "code",
   "execution_count": 16,
   "id": "4c55d437",
   "metadata": {},
   "outputs": [
    {
     "data": {
      "text/plain": [
       "'Welcome to the program'"
      ]
     },
     "execution_count": 16,
     "metadata": {},
     "output_type": "execute_result"
    }
   ],
   "source": [
    "str.replace(\"course\",\"program\")"
   ]
  },
  {
   "cell_type": "code",
   "execution_count": 17,
   "id": "aad8ee79",
   "metadata": {},
   "outputs": [
    {
     "name": "stdout",
     "output_type": "stream",
     "text": [
      "Welcome to the course\n"
     ]
    }
   ],
   "source": [
    "print(str)"
   ]
  },
  {
   "cell_type": "code",
   "execution_count": 21,
   "id": "730e5917",
   "metadata": {},
   "outputs": [
    {
     "name": "stdout",
     "output_type": "stream",
     "text": [
      "enter          uas      \n"
     ]
    }
   ],
   "source": [
    "str2=input(\"enter \")"
   ]
  },
  {
   "cell_type": "markdown",
   "id": "611d7181",
   "metadata": {},
   "source": [
    "# strip method is used to remove extra spaces from the string"
   ]
  },
  {
   "cell_type": "code",
   "execution_count": 23,
   "id": "15eabc6d",
   "metadata": {},
   "outputs": [
    {
     "data": {
      "text/plain": [
       "'uas'"
      ]
     },
     "execution_count": 23,
     "metadata": {},
     "output_type": "execute_result"
    }
   ],
   "source": [
    "str2.strip()"
   ]
  },
  {
   "cell_type": "code",
   "execution_count": null,
   "id": "b0b32178",
   "metadata": {},
   "outputs": [],
   "source": []
  }
 ],
 "metadata": {
  "kernelspec": {
   "display_name": "Python 3 (ipykernel)",
   "language": "python",
   "name": "python3"
  },
  "language_info": {
   "codemirror_mode": {
    "name": "ipython",
    "version": 3
   },
   "file_extension": ".py",
   "mimetype": "text/x-python",
   "name": "python",
   "nbconvert_exporter": "python",
   "pygments_lexer": "ipython3",
   "version": "3.9.12"
  },
  "vscode": {
   "interpreter": {
    "hash": "1c1e284a094d26f47d86d91c5bc055dd561660b5b78539c2f7bb1ca63826b557"
   }
  }
 },
 "nbformat": 4,
 "nbformat_minor": 5
}
